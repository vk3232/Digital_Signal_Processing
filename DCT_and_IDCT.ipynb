{
  "nbformat": 4,
  "nbformat_minor": 0,
  "metadata": {
    "colab": {
      "name": "DCT_and_IDCT.ipynb",
      "provenance": []
    },
    "kernelspec": {
      "name": "python3",
      "display_name": "Python 3"
    },
    "language_info": {
      "name": "python"
    }
  },
  "cells": [
    {
      "cell_type": "markdown",
      "source": [
        "# **EXP3: Compute DCT and IDCT to perform signal compression**"
      ],
      "metadata": {
        "id": "QkSYkcvNBtnF"
      }
    },
    {
      "cell_type": "code",
      "source": [
        "import numpy as np"
      ],
      "metadata": {
        "id": "7bb9BU4VqYVK"
      },
      "execution_count": 1,
      "outputs": []
    },
    {
      "cell_type": "code",
      "execution_count": 4,
      "metadata": {
        "colab": {
          "base_uri": "https://localhost:8080/",
          "height": 0
        },
        "id": "8uXTlZXXpvEy",
        "outputId": "b5a33e19-c00e-4805-d75f-253e313487af"
      },
      "outputs": [
        {
          "name": "stdout",
          "output_type": "stream",
          "text": [
            "1 3 5 7\n"
          ]
        }
      ],
      "source": [
        "x = np.array(list(map(int,input().split())))  \n",
        "N = len(x)"
      ]
    },
    {
      "cell_type": "markdown",
      "source": [
        "## Calculate DCT"
      ],
      "metadata": {
        "id": "LPcZx1c00zEe"
      }
    },
    {
      "cell_type": "code",
      "source": [
        "mat = np.zeros((N, N))\n",
        "\n",
        "for i in range(N):\n",
        "  for j in range(N):\n",
        "      if i == 0:\n",
        "        mat[i][j] = np.sqrt(1/N)\n",
        "      else:\n",
        "        mat[i][j] = np.sqrt(2/N)*np.cos((np.pi*((j*2)+1)*i)/(2*N))\n",
        "print(mat)"
      ],
      "metadata": {
        "colab": {
          "base_uri": "https://localhost:8080/",
          "height": 0
        },
        "id": "m0xOWlNc02lH",
        "outputId": "d241d4f1-cd07-4d2b-f830-afa83ae9281a"
      },
      "execution_count": 5,
      "outputs": [
        {
          "output_type": "stream",
          "name": "stdout",
          "text": [
            "[[ 0.5         0.5         0.5         0.5       ]\n",
            " [ 0.65328148  0.27059805 -0.27059805 -0.65328148]\n",
            " [ 0.5        -0.5        -0.5         0.5       ]\n",
            " [ 0.27059805 -0.65328148  0.65328148 -0.27059805]]\n"
          ]
        }
      ]
    },
    {
      "cell_type": "code",
      "source": [
        "F = np.dot(mat,x)\n",
        "F"
      ],
      "metadata": {
        "colab": {
          "base_uri": "https://localhost:8080/",
          "height": 0
        },
        "id": "4ptZHCHH9as5",
        "outputId": "eb0147e2-7957-44f9-feb0-f2832ef9ac36"
      },
      "execution_count": 6,
      "outputs": [
        {
          "output_type": "execute_result",
          "data": {
            "text/plain": [
              "array([ 8.00000000e+00, -4.46088499e+00, -1.33226763e-15, -3.17025336e-01])"
            ]
          },
          "metadata": {},
          "execution_count": 6
        }
      ]
    },
    {
      "cell_type": "markdown",
      "source": [
        "## Calculate IDCT"
      ],
      "metadata": {
        "id": "6H4ZWCjF9zAw"
      }
    },
    {
      "cell_type": "code",
      "source": [
        "IDCT = []\n",
        "for i in range(N):\n",
        "  sum = 0\n",
        "  for j in range(N):\n",
        "    if i == 0:\n",
        "      sum += np.sqrt(1/N)\n",
        "    else:\n",
        "      sum += (np.sqrt(2/N)*F[j]*np.cos((np.pi*((i*2)+1)*j)/(2*N)))\n",
        "  IDCT.append(sum)\n",
        "\n",
        "IDCT"
      ],
      "metadata": {
        "colab": {
          "base_uri": "https://localhost:8080/",
          "height": 0
        },
        "id": "-GaXtcH792sb",
        "outputId": "c3dec464-f3c6-4713-b7ef-a88fbc5a35c1"
      },
      "execution_count": 7,
      "outputs": [
        {
          "output_type": "execute_result",
          "data": {
            "text/plain": [
              "[2.0, 4.656854249492382, 6.65685424949238, 8.656854249492381]"
            ]
          },
          "metadata": {},
          "execution_count": 7
        }
      ]
    }
  ]
}