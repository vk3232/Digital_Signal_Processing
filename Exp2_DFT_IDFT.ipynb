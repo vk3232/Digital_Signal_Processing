{
  "nbformat": 4,
  "nbformat_minor": 0,
  "metadata": {
    "colab": {
      "name": "Exp2_DFT_IDFT.ipynb",
      "provenance": [],
      "authorship_tag": "ABX9TyMHnabR5M4bciMncPlh42jl",
      "include_colab_link": true
    },
    "kernelspec": {
      "name": "python3",
      "display_name": "Python 3"
    },
    "language_info": {
      "name": "python"
    }
  },
  "cells": [
    {
      "cell_type": "markdown",
      "metadata": {
        "id": "view-in-github",
        "colab_type": "text"
      },
      "source": [
        "<a href=\"https://colab.research.google.com/github/vk3232/Digital_Signal_Processing/blob/main/Exp2_DFT_IDFT.ipynb\" target=\"_parent\"><img src=\"https://colab.research.google.com/assets/colab-badge.svg\" alt=\"Open In Colab\"/></a>"
      ]
    },
    {
      "cell_type": "markdown",
      "source": [
        "# **Exp2: DFT and IDFT**"
      ],
      "metadata": {
        "id": "Gk4ez6VAEFvQ"
      }
    },
    {
      "cell_type": "markdown",
      "source": [
        "**Name: Vrushabh Babasaheb Khatik**\n",
        "\n",
        "**Roll No: 313072**\n",
        "\n",
        "**GR No: 22020234**\n",
        "\n",
        "**Batch: C3**"
      ],
      "metadata": {
        "id": "mhQlhExJEMlr"
      }
    },
    {
      "cell_type": "markdown",
      "source": [
        "Importing Necessary Libraries"
      ],
      "metadata": {
        "id": "zr3p6C99YBxT"
      }
    },
    {
      "cell_type": "code",
      "source": [
        "import matplotlib.pyplot as plt\n",
        "from scipy.fftpack import fft \n",
        "import numpy as np\n",
        "from math import pi"
      ],
      "metadata": {
        "id": "upiAZxJhX8lu"
      },
      "execution_count": null,
      "outputs": []
    },
    {
      "cell_type": "code",
      "execution_count": null,
      "metadata": {
        "colab": {
          "base_uri": "https://localhost:8080/",
          "height": 1000
        },
        "id": "qdj7LrovCphK",
        "outputId": "8ebaef32-852b-4374-b121-bc46f46b3a0c"
      },
      "outputs": [
        {
          "output_type": "stream",
          "name": "stderr",
          "text": [
            "/usr/local/lib/python3.7/dist-packages/ipykernel_launcher.py:12: UserWarning: In Matplotlib 3.3 individual lines on a stem plot will be added as a LineCollection instead of individual lines. This significantly improves the performance of a stem plot. To remove this warning and switch to the new behaviour, set the \"use_line_collection\" keyword argument to True.\n",
            "  if sys.path[0] == '':\n"
          ]
        },
        {
          "output_type": "stream",
          "name": "stdout",
          "text": [
            "[ -1.        +0.00000000e+00j  -1.00050371-5.05567810e-14j\n",
            "  -1.00201739-4.15778523e-14j  -1.00454867+7.07767178e-15j\n",
            "  -1.00811044+4.81281681e-14j  -1.0127209 +5.55666624e-14j\n",
            "  -1.01840388-3.99402733e-14j  -1.02518912+3.15025783e-14j\n",
            "  -1.0331126 -5.60662627e-14j  -1.04221712-6.21724894e-15j\n",
            "  -1.05255278-5.03486142e-14j  -1.06417777-1.51822999e-13j\n",
            "  -1.07715914+1.22124533e-15j  -1.09157381-1.06969988e-13j\n",
            "  -1.10750981-8.35442826e-14j  -1.12506764+1.88737914e-14j\n",
            "  -1.14436198+3.06421555e-14j  -1.1655237 +2.84217094e-14j\n",
            "  -1.18870229-1.13686838e-13j  -1.21406875-4.44089210e-16j\n",
            "  -1.24181912-8.10462808e-15j  -1.27217869-2.46469511e-14j\n",
            "  -1.30540729-1.02140518e-14j  -1.34180558-1.25122135e-13j\n",
            "  -1.38172305-1.03139719e-13j  -1.42556778-6.68354261e-14j\n",
            "  -1.47381891+5.17363929e-14j  -1.52704224-7.00550729e-14j\n",
            "  -1.58591035-6.35047570e-14j  -1.65122854-1.35225164e-13j\n",
            "  -1.72396878-1.42663659e-13j  -1.80531464+9.76996262e-15j\n",
            "  -1.89672173+5.28466160e-14j  -2.        +1.72084569e-14j\n",
            "  -2.11742801+4.99600361e-15j  -2.2519144 -5.48450174e-14j\n",
            "  -2.40723125-6.45039577e-14j  -2.5883593 -4.84057239e-14j\n",
            "  -2.80201347+7.03881398e-14j  -3.05746851-3.77475828e-14j\n",
            "  -3.36790629-2.50910404e-14j  -3.75271396-7.30526750e-14j\n",
            "  -4.24162078+6.66133815e-15j  -4.88265353-9.28146449e-14j\n",
            "  -5.75877048-9.94759830e-14j  -7.02667418+1.05915277e-13j\n",
            "  -9.02216024-4.98490138e-14j -12.6183034 +2.31592523e-13j\n",
            " -21.0163879 +5.66213743e-15j -63.02800198-6.43485265e-13j\n",
            "  63.02800198-4.76285678e-13j  21.0163879 -5.88418203e-15j\n",
            "  12.6183034 -2.35700348e-13j   9.02216024-8.13793477e-14j\n",
            "   7.02667418+1.24011912e-13j   5.75877048+4.56301663e-14j\n",
            "   4.88265353+1.97952765e-13j   4.24162078+1.66533454e-14j\n",
            "   3.75271396-3.55271368e-15j   3.36790629+2.83106871e-14j\n",
            "   3.05746851+4.67403893e-14j   2.80201347-1.24233956e-13j\n",
            "   2.5883593 -9.70334924e-14j   2.40723125+2.23598917e-13j\n",
            "   2.2519144 +1.57540647e-13j   2.11742801-7.91589017e-14j\n",
            "   2.        +8.08242362e-14j   1.89672173-2.59015032e-13j\n",
            "   1.80531464+6.80566714e-14j   1.72396878+2.55906407e-13j\n",
            "   1.65122854+2.64788191e-13j   1.58591035-7.01660952e-14j\n",
            "   1.52704224+3.30846461e-14j   1.47381891-3.75255382e-14j\n",
            "   1.42556778+3.58602037e-14j   1.38172305+2.53130850e-13j\n",
            "   1.34180558+5.02931030e-14j   1.30540729+4.97379915e-14j\n",
            "   1.27217869-5.06261699e-14j   1.24181912+1.43995926e-13j\n",
            "   1.21406875+8.17124146e-14j   1.18870229+1.94622096e-13j\n",
            "   1.1655237 +3.85247390e-14j   1.14436198-1.65978342e-14j\n",
            "   1.12506764+8.23230373e-14j   1.10750981+2.35866882e-13j\n",
            "   1.09157381+3.66817687e-13j   1.07715914+1.00308650e-13j\n",
            "   1.06417777+2.09887663e-13j   1.05255278-8.83182416e-14j\n",
            "   1.04221712+1.77302617e-13j   1.0331126 +2.51021426e-13j\n",
            "   1.02518912+2.80886425e-14j   1.01840388+5.14588372e-14j\n",
            "   1.0127209 -3.85580456e-13j   1.00811044-1.05554454e-13j\n",
            "   1.00454867+3.65263375e-14j   1.00201739-6.92779167e-14j\n",
            "   1.00050371-4.09949852e-14j   1.        -1.96153836e-13j\n",
            "   1.00050371-6.39002740e-14j   1.00201739-1.87974636e-13j\n",
            "   1.00454867+6.54892807e-14j   1.00811044-1.12160281e-13j\n",
            "   1.0127209 +3.71341846e-13j   1.01840388-5.88418203e-15j\n",
            "   1.02518912+7.08877401e-14j   1.0331126 +5.02931030e-14j\n",
            "   1.04221712-1.37001521e-13j   1.05255278+7.91311461e-13j\n",
            "   1.06417777-4.79505324e-13j   1.07715914+2.19269047e-14j\n",
            "   1.09157381-1.41386902e-13j   1.10750981-2.70783396e-13j\n",
            "   1.12506764+2.90878432e-13j   1.14436198+2.44415599e-13j\n",
            "   1.1655237 -6.33937347e-14j   1.18870229+1.66755498e-13j\n",
            "   1.21406875-1.75637282e-13j   1.24181912-3.14193116e-13j\n",
            "   1.27217869+2.30926389e-13j   1.30540729-1.23234756e-14j\n",
            "   1.34180558-1.56319402e-13j   1.38172305+1.51767487e-13j\n",
            "   1.42556778+2.64566147e-13j   1.47381891-1.28008715e-13j\n",
            "   1.52704224-2.61457522e-13j   1.58591035+1.13464793e-13j\n",
            "   1.65122854-7.66053887e-14j   1.72396878-1.77080572e-13j\n",
            "   1.80531464-2.22044605e-15j   1.89672173+1.54321000e-13j\n",
            "   2.        +5.07816011e-13j   2.11742801-2.34479103e-13j\n",
            "   2.2519144 +2.30260255e-13j   2.40723125+2.44138043e-13j\n",
            "   2.5883593 -4.57411886e-14j   2.80201347+2.09943174e-13j\n",
            "   3.05746851-5.42899059e-14j   3.36790629-2.76112466e-13j\n",
            "   3.75271396+1.71196390e-13j   4.24162078+2.69895217e-13j\n",
            "   4.88265353+4.70623540e-13j   5.75877048+4.23328039e-13j\n",
            "   7.02667418-3.07531778e-14j   9.02216024+1.49991131e-13j\n",
            "  12.6183034 +6.47482068e-13j  21.0163879 +1.04360964e-14j\n",
            "  63.02800198+5.62550007e-13j -63.02800198-1.90125693e-12j\n",
            " -21.0163879 -7.41740003e-13j -12.6183034 -9.45687972e-13j\n",
            "  -9.02216024-3.92352817e-13j  -7.02667418-2.27484698e-13j\n",
            "  -5.75877048-3.83804100e-13j  -4.88265353-2.77000645e-13j\n",
            "  -4.24162078+1.88626892e-13j  -3.75271396-7.97140132e-14j\n",
            "  -3.36790629+2.20157226e-13j  -3.05746851-7.32858219e-13j\n",
            "  -2.80201347+6.17284002e-14j  -2.5883593 +4.17443857e-14j\n",
            "  -2.40723125+5.83422199e-13j  -2.2519144 -4.07673895e-13j\n",
            "  -2.11742801-1.88404847e-13j  -2.        -2.89879232e-13j\n",
            "  -1.89672173-3.91797705e-13j  -1.80531464+1.92179606e-13j\n",
            "  -1.72396878+2.73780998e-13j  -1.65122854+2.75335310e-14j\n",
            "  -1.58591035+5.90194560e-13j  -1.52704224+1.28230759e-13j\n",
            "  -1.47381891-3.41504602e-13j  -1.42556778+8.44879722e-14j\n",
            "  -1.38172305+4.61075622e-13j  -1.34180558-1.20570220e-13j\n",
            "  -1.30540729-2.40141240e-13j  -1.27217869+7.10320691e-13j\n",
            "  -1.24181912+1.27120536e-13j  -1.21406875-1.82298621e-13j\n",
            "  -1.18870229+5.53890267e-13j  -1.1655237 +5.70654635e-14j\n",
            "  -1.14436198-7.51287921e-13j  -1.12506764-6.45594689e-14j\n",
            "  -1.10750981+1.19321220e-12j  -1.09157381+5.03042052e-13j\n",
            "  -1.07715914-4.83335594e-13j  -1.06417777+1.52433621e-13j\n",
            "  -1.05255278-4.67736960e-13j  -1.04221712-3.07365244e-13j\n",
            "  -1.0331126 +2.45081733e-13j  -1.02518912+7.49678097e-13j\n",
            "  -1.01840388-2.51465515e-13j  -1.0127209 -1.65478742e-13j\n",
            "  -1.00811044+1.18349774e-13j  -1.00454867-4.11684575e-13j\n",
            "  -1.00201739-5.67046410e-13j  -1.00050371+8.91578478e-14j]\n"
          ]
        },
        {
          "output_type": "execute_result",
          "data": {
            "text/plain": [
              "Text(0, 0.5, 'Amplitude')"
            ]
          },
          "metadata": {},
          "execution_count": 1
        },
        {
          "output_type": "display_data",
          "data": {
            "image/png": "[encoded data removed]",
            "text/plain": [
              "<Figure size 432x288 with 1 Axes>"
            ]
          },
          "metadata": {
            "needs_background": "light"
          }
        },
        {
          "output_type": "display_data",
          "data": {
            "image/png": "[encoded data removed]",
            "text/plain": [
              "<Figure size 432x288 with 1 Axes>"
            ]
          },
          "metadata": {
            "needs_background": "light"
          }
        }
      ],
      "source": [
        "plt.close('all')\n",
        "Fs=200\n",
        "n=np.arange(2,200,1)\n",
        "f1=50\n",
        "x=np.sin(2*pi*(f1/Fs)*n)\n",
        "plot=plt.figure(1)\n",
        "plt.stem(n,x);\n",
        "plt.title('sinusoidal Signal');\n",
        "plt.xlabel('Time')\n",
        "plt.ylabel('Amplitude')\n",
        "\n",
        "N=len(x)\n",
        "tw=np.zeros((N,N),dtype=np.complex128)\n",
        "for n in range(N):\n",
        "  for k in range(N):\n",
        "    tw[k,n]=np.exp(-2j*np.pi*k*n/N)\n",
        "\n",
        "    DFT=np.dot(tw,x)\n",
        "print(DFT)\n",
        "plot=plt.figure(2)\n",
        "plt.plot(abs(DFT));\n",
        "plt.title('Magnitude plot')\n",
        "plt.ylabel('Amplitude')"
      ]
    },
    {
      "cell_type": "markdown",
      "source": [
        "**DFT**"
      ],
      "metadata": {
        "id": "vMLysU8ZGmac"
      }
    },
    {
      "cell_type": "code",
      "source": [
        "x=np.array([1,2,3,4])\n",
        "N=len(x)\n",
        "tw=np.zeros((N,N),dtype=np.complex128)\n",
        "for n in range(N):\n",
        "  for k in range(N):\n",
        "    tw[k,n]=np.exp(-2j*np.pi*k*n/N)\n",
        "\n",
        "    DFT=np.dot(tw,x)\n",
        "print(DFT)"
      ],
      "metadata": {
        "colab": {
          "base_uri": "https://localhost:8080/"
        },
        "id": "Gkvaas_sGraD",
        "outputId": "2bd1805b-25aa-4336-c3f2-1512b0efc541"
      },
      "execution_count": null,
      "outputs": [
        {
          "output_type": "stream",
          "name": "stdout",
          "text": [
            "[10.+0.00000000e+00j -2.+2.00000000e+00j -2.-9.79717439e-16j\n",
            " -2.-2.00000000e+00j]\n"
          ]
        }
      ]
    },
    {
      "cell_type": "markdown",
      "source": [
        "**IDFT**"
      ],
      "metadata": {
        "id": "JO3TG5OgH0of"
      }
    },
    {
      "cell_type": "code",
      "source": [
        "twc=np.zeros((N,N),dtype=np.complex128)\n",
        "for n in range(N):\n",
        "  for k in range(N):\n",
        "    twc[k,n]=np.exp(2j*np.pi*k*n/N)\n",
        "\n",
        "    y=(np.dot(twc,DFT))/N\n",
        "print(y)"
      ],
      "metadata": {
        "colab": {
          "base_uri": "https://localhost:8080/"
        },
        "id": "D8oYcXh2H29V",
        "outputId": "8bcbc28e-aa3b-4e22-90c6-4fc385290d7a"
      },
      "execution_count": null,
      "outputs": [
        {
          "output_type": "stream",
          "name": "stdout",
          "text": [
            "[1.-5.77996267e-16j 2.-2.48949813e-16j 3.-3.43271324e-17j\n",
            " 4.+2.48949813e-16j]\n"
          ]
        }
      ]
    }
  ]
}